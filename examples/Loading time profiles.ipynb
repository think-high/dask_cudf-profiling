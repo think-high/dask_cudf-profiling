{
 "cells": [
  {
   "cell_type": "code",
   "execution_count": 41,
   "metadata": {},
   "outputs": [],
   "source": [
    "import pickle as pkl\n",
    "import pandas as pd\n",
    "\n",
    "rapids_dgx202_machine = True\n",
    "\n",
    "if rapids_dgx202_machine:\n",
    "    time_comparison_pickle =  \"GPU_vs_CPU_time-profiling_dgx202.pkl\"\n",
    "else:\n",
    "    time_comparison_pickle =  \"GPU_vs_CPU_time-profiling_dgx1.pkl\"\n",
    "\n",
    "with open(time_comparison_pickle,\"rb\") as file:\n",
    "    time_comparison_dict = pkl.load(file)\n",
    "\n"
   ]
  },
  {
   "cell_type": "code",
   "execution_count": 42,
   "metadata": {},
   "outputs": [],
   "source": [
    "time_comparison_dict = {\"data-source\":time_comparison_dict[\"data-source\"],\"dask-cudf_timing\":time_comparison_dict[\"dask-cudf_timing\"],\"dask-timing\":time_comparison_dict[\"dask-timing\"]}"
   ]
  },
  {
   "cell_type": "code",
   "execution_count": 44,
   "metadata": {},
   "outputs": [],
   "source": [
    "df = pd.DataFrame.from_dict(time_comparison_dict)\n",
    "\n",
    "df.fillna(0,inplace=True)\n",
    "\n",
    "df = df.groupby(\"data-source\").max()\n",
    "\n",
    "df[\"speed-x\"] = df[\"dask-timing\"] / df[\"dask-cudf_timing\"]\n",
    "\n",
    "df[\"dask-timing\"] = df[\"dask-timing\"].astype(\"int\")"
   ]
  },
  {
   "cell_type": "code",
   "execution_count": 45,
   "metadata": {},
   "outputs": [
    {
     "data": {
      "text/html": [
       "<div>\n",
       "<style scoped>\n",
       "    .dataframe tbody tr th:only-of-type {\n",
       "        vertical-align: middle;\n",
       "    }\n",
       "\n",
       "    .dataframe tbody tr th {\n",
       "        vertical-align: top;\n",
       "    }\n",
       "\n",
       "    .dataframe thead th {\n",
       "        text-align: right;\n",
       "    }\n",
       "</style>\n",
       "<table border=\"1\" class=\"dataframe\">\n",
       "  <thead>\n",
       "    <tr style=\"text-align: right;\">\n",
       "      <th></th>\n",
       "      <th>dask-cudf_timing</th>\n",
       "      <th>dask-timing</th>\n",
       "      <th>speed-x</th>\n",
       "    </tr>\n",
       "    <tr>\n",
       "      <th>data-source</th>\n",
       "      <th></th>\n",
       "      <th></th>\n",
       "      <th></th>\n",
       "    </tr>\n",
       "  </thead>\n",
       "  <tbody>\n",
       "    <tr>\n",
       "      <th>NYC_taxi_2014-12-months</th>\n",
       "      <td>0.000000</td>\n",
       "      <td>21916</td>\n",
       "      <td>inf</td>\n",
       "    </tr>\n",
       "    <tr>\n",
       "      <th>NYC_taxi_2016-1-months</th>\n",
       "      <td>25.003244</td>\n",
       "      <td>976</td>\n",
       "      <td>39.055458</td>\n",
       "    </tr>\n",
       "    <tr>\n",
       "      <th>NYC_taxi_2016-2-months</th>\n",
       "      <td>39.501342</td>\n",
       "      <td>2495</td>\n",
       "      <td>63.183340</td>\n",
       "    </tr>\n",
       "    <tr>\n",
       "      <th>NYC_taxi_2016-3-months</th>\n",
       "      <td>53.424686</td>\n",
       "      <td>4002</td>\n",
       "      <td>74.923243</td>\n",
       "    </tr>\n",
       "    <tr>\n",
       "      <th>NYC_taxi_2016-4-months</th>\n",
       "      <td>58.200095</td>\n",
       "      <td>5490</td>\n",
       "      <td>94.336421</td>\n",
       "    </tr>\n",
       "    <tr>\n",
       "      <th>NYC_taxi_2016-5-months</th>\n",
       "      <td>72.863267</td>\n",
       "      <td>7112</td>\n",
       "      <td>97.619819</td>\n",
       "    </tr>\n",
       "    <tr>\n",
       "      <th>NYC_taxi_2016-6-months</th>\n",
       "      <td>82.775693</td>\n",
       "      <td>8633</td>\n",
       "      <td>104.296582</td>\n",
       "    </tr>\n",
       "  </tbody>\n",
       "</table>\n",
       "</div>"
      ],
      "text/plain": [
       "                         dask-cudf_timing  dask-timing     speed-x\n",
       "data-source                                                       \n",
       "NYC_taxi_2014-12-months          0.000000        21916         inf\n",
       "NYC_taxi_2016-1-months          25.003244          976   39.055458\n",
       "NYC_taxi_2016-2-months          39.501342         2495   63.183340\n",
       "NYC_taxi_2016-3-months          53.424686         4002   74.923243\n",
       "NYC_taxi_2016-4-months          58.200095         5490   94.336421\n",
       "NYC_taxi_2016-5-months          72.863267         7112   97.619819\n",
       "NYC_taxi_2016-6-months          82.775693         8633  104.296582"
      ]
     },
     "execution_count": 45,
     "metadata": {},
     "output_type": "execute_result"
    }
   ],
   "source": [
    "df"
   ]
  },
  {
   "cell_type": "code",
   "execution_count": null,
   "metadata": {},
   "outputs": [],
   "source": []
  }
 ],
 "metadata": {
  "kernelspec": {
   "display_name": "Python 3",
   "language": "python",
   "name": "python3"
  },
  "language_info": {
   "codemirror_mode": {
    "name": "ipython",
    "version": 3
   },
   "file_extension": ".py",
   "mimetype": "text/x-python",
   "name": "python",
   "nbconvert_exporter": "python",
   "pygments_lexer": "ipython3",
   "version": "3.7.8"
  }
 },
 "nbformat": 4,
 "nbformat_minor": 4
}
